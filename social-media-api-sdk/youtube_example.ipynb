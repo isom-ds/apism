{
 "cells": [
  {
   "cell_type": "markdown",
   "metadata": {},
   "source": [
    "# YouTube Data API v3 Examples"
   ]
  },
  {
   "cell_type": "code",
   "execution_count": 1,
   "metadata": {},
   "outputs": [],
   "source": [
    "from youtube.search import *\n",
    "from youtube.comment_threads import *\n",
    "from yt_api_key import key\n",
    "import time"
   ]
  },
  {
   "cell_type": "markdown",
   "metadata": {},
   "source": [
    "## Search API"
   ]
  },
  {
   "cell_type": "code",
   "execution_count": 2,
   "metadata": {},
   "outputs": [],
   "source": [
    "query = 'FTX'\n",
    "search_params = {\n",
    "    'key': key,\n",
    "    'part': 'snippet',\n",
    "    'type': 'video',\n",
    "    'relevanceLanguage': 'en',\n",
    "    'publishedAfter': '2022-12-01' + 'T00:00:00Z',\n",
    "    'publishedBefore': '2022-12-01' + 'T23:59:59Z',\n",
    "    'order': 'viewCount'\n",
    "}"
   ]
  },
  {
   "cell_type": "code",
   "execution_count": 3,
   "metadata": {},
   "outputs": [
    {
     "name": "stdout",
     "output_type": "stream",
     "text": [
      "--- 0.9598073959350586 seconds ---\n",
      "Fetched 13 Video IDs\n"
     ]
    }
   ],
   "source": [
    "start_time = time.time()\n",
    "\n",
    "search_results = await fetch_search_results(query, search_params)\n",
    "\n",
    "print(\"--- %s seconds ---\" % (time.time() - start_time))\n",
    "\n",
    "l_video_ids = list(set([i['id']['videoId'] for i in search_results]))\n",
    "print(f\"Fetched {len(l_video_ids)} Video IDs\")"
   ]
  },
  {
   "cell_type": "markdown",
   "metadata": {},
   "source": [
    "## CommentThreads API"
   ]
  },
  {
   "cell_type": "code",
   "execution_count": 4,
   "metadata": {},
   "outputs": [],
   "source": [
    "video_params = {\n",
    "    'key': key,\n",
    "    'part': 'id,replies,snippet',\n",
    "    'order': 'time'\n",
    "}"
   ]
  },
  {
   "cell_type": "markdown",
   "metadata": {},
   "source": [
    "### Single Video"
   ]
  },
  {
   "cell_type": "code",
   "execution_count": 5,
   "metadata": {},
   "outputs": [
    {
     "name": "stdout",
     "output_type": "stream",
     "text": [
      "--- 55.80777668952942 seconds ---\n",
      "Fetched 3391 comments for Video ID `0Hxf4Vf54PI`\n"
     ]
    }
   ],
   "source": [
    "start_time = time.time()\n",
    "\n",
    "comments_results = await fetch_comment_threads('0Hxf4Vf54PI', video_params)\n",
    "\n",
    "print(\"--- %s seconds ---\" % (time.time() - start_time))\n",
    "print(f\"Fetched {len(comments_results)} comments for Video ID `0Hxf4Vf54PI`\")"
   ]
  },
  {
   "cell_type": "markdown",
   "metadata": {},
   "source": [
    "### Multiple Videos"
   ]
  },
  {
   "cell_type": "code",
   "execution_count": 6,
   "metadata": {},
   "outputs": [
    {
     "name": "stdout",
     "output_type": "stream",
     "text": [
      "Comments are disabled for video with params: {'part': 'id,replies,snippet', 'order': 'time', 'videoId': 'IyoGdwVIwWw'}\n",
      "--- 40.68583559989929 seconds ---\n",
      "Fetched comments for 13 videos\n",
      "Video ID    | Comments\n",
      "------------|------------\n",
      "PamZCTjqR0k | 23\n",
      "5siCgOJXPdI | 52\n",
      "Bn0HOI9Qx0o | 43\n",
      "IyoGdwVIwWw | 0\n",
      "L3ESkcwY-QI | 3\n",
      "0Hxf4Vf54PI | 3391\n",
      "f26kRRKrlj8 | 15\n",
      "Zc57tP7ODNQ | 119\n",
      "7QEbjRKbrjY | 1800\n",
      "ipcpgND2-AY | 1\n",
      "COTkAAuV0K0 | 6\n",
      "8vwv23XYcrU | 11\n",
      "CG1bpu2KqeQ | 6\n"
     ]
    }
   ],
   "source": [
    "# Concurrent\n",
    "start_time = time.time()\n",
    "\n",
    "comments_concurrent_results = await fetch_comment_threads(l_video_ids, video_params)\n",
    "\n",
    "print(\"--- %s seconds ---\" % (time.time() - start_time))\n",
    "print(f\"Fetched comments for {len(comments_concurrent_results)} videos\")\n",
    "print(\"Video ID    | Comments\")\n",
    "print(\"------------|------------\")\n",
    "for i in comments_concurrent_results.keys():\n",
    "    print(f\"{i} | {len(comments_concurrent_results[i])}\")"
   ]
  },
  {
   "cell_type": "code",
   "execution_count": 7,
   "metadata": {},
   "outputs": [
    {
     "name": "stdout",
     "output_type": "stream",
     "text": [
      "Comments are disabled for video with params: {'part': 'id,replies,snippet', 'order': 'time', 'videoId': 'IyoGdwVIwWw'}\n",
      "--- 63.901745557785034 seconds ---\n",
      "Fetched comments for 13 videos\n",
      "Video ID    | Comments\n",
      "------------|------------\n",
      "PamZCTjqR0k | 23\n",
      "5siCgOJXPdI | 52\n",
      "Bn0HOI9Qx0o | 43\n",
      "IyoGdwVIwWw | 0\n",
      "L3ESkcwY-QI | 3\n",
      "0Hxf4Vf54PI | 3391\n",
      "f26kRRKrlj8 | 15\n",
      "Zc57tP7ODNQ | 119\n",
      "7QEbjRKbrjY | 1800\n",
      "ipcpgND2-AY | 1\n",
      "COTkAAuV0K0 | 6\n",
      "8vwv23XYcrU | 11\n",
      "CG1bpu2KqeQ | 6\n"
     ]
    }
   ],
   "source": [
    "# Sequential\n",
    "start_time = time.time()\n",
    "\n",
    "comments_sequential_results = await fetch_comment_threads(l_video_ids, video_params, sequential=True)\n",
    "\n",
    "print(\"--- %s seconds ---\" % (time.time() - start_time))\n",
    "print(f\"Fetched comments for {len(comments_sequential_results)} videos\")\n",
    "print(\"Video ID    | Comments\")\n",
    "print(\"------------|------------\")\n",
    "for i in comments_sequential_results.keys():\n",
    "    print(f\"{i} | {len(comments_sequential_results[i])}\")"
   ]
  }
 ],
 "metadata": {
  "kernelspec": {
   "display_name": "Python 3",
   "language": "python",
   "name": "python3"
  },
  "language_info": {
   "codemirror_mode": {
    "name": "ipython",
    "version": 3
   },
   "file_extension": ".py",
   "mimetype": "text/x-python",
   "name": "python",
   "nbconvert_exporter": "python",
   "pygments_lexer": "ipython3",
   "version": "3.12.5"
  }
 },
 "nbformat": 4,
 "nbformat_minor": 2
}
