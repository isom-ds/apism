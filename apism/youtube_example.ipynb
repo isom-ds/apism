{
 "cells": [
  {
   "cell_type": "markdown",
   "metadata": {},
   "source": [
    "# YouTube Data API v3 Examples"
   ]
  },
  {
   "cell_type": "markdown",
   "metadata": {},
   "source": [
    "## Initialise YouTube API"
   ]
  },
  {
   "cell_type": "code",
   "execution_count": 1,
   "metadata": {},
   "outputs": [],
   "source": [
    "from apism import YouTubeAPI\n",
    "from yt_api_key import key\n",
    "\n",
    "# Initialise the YouTube API\n",
    "yt = YouTubeAPI(api_key=key, verbose=True)"
   ]
  },
  {
   "cell_type": "markdown",
   "metadata": {},
   "source": [
    "## Search API"
   ]
  },
  {
   "cell_type": "code",
   "execution_count": 2,
   "metadata": {},
   "outputs": [
    {
     "name": "stdout",
     "output_type": "stream",
     "text": [
      "15 videos found\n"
     ]
    }
   ],
   "source": [
    "# Call search API\n",
    "await yt.search('FTX')"
   ]
  },
  {
   "cell_type": "markdown",
   "metadata": {},
   "source": [
    "# Videos API"
   ]
  },
  {
   "cell_type": "code",
   "execution_count": 3,
   "metadata": {},
   "outputs": [],
   "source": [
    "# List of videos can be passed manually\n",
    "l_video_ids = list(set([i['id']['videoId'] for i in yt.results['search']]))"
   ]
  },
  {
   "cell_type": "code",
   "execution_count": 4,
   "metadata": {},
   "outputs": [
    {
     "name": "stdout",
     "output_type": "stream",
     "text": [
      "15 videos with 0+ comments\n"
     ]
    }
   ],
   "source": [
    "# Call videos API\n",
    "await yt.videos(l_video_ids)"
   ]
  },
  {
   "cell_type": "markdown",
   "metadata": {},
   "source": [
    "## CommentThreads API"
   ]
  },
  {
   "cell_type": "code",
   "execution_count": 5,
   "metadata": {},
   "outputs": [
    {
     "name": "stdout",
     "output_type": "stream",
     "text": [
      "Comments are disabled for video ID: _ieVDjO6ghM\n",
      "13 comments retrieved for 4 videos\n"
     ]
    }
   ],
   "source": [
    "# Call commentThreads API\n",
    "await yt.comment_threads(l_video_ids)"
   ]
  },
  {
   "cell_type": "markdown",
   "metadata": {},
   "source": [
    "## Transcript API"
   ]
  },
  {
   "cell_type": "code",
   "execution_count": 6,
   "metadata": {},
   "outputs": [
    {
     "name": "stdout",
     "output_type": "stream",
     "text": [
      "Transcripts for 13 videos retrieved\n"
     ]
    }
   ],
   "source": [
    "# Call transcript API\n",
    "await yt.transcript(l_video_ids)"
   ]
  },
  {
   "cell_type": "markdown",
   "metadata": {},
   "source": [
    "## API Chain"
   ]
  },
  {
   "cell_type": "code",
   "execution_count": 7,
   "metadata": {},
   "outputs": [
    {
     "name": "stdout",
     "output_type": "stream",
     "text": [
      "15 videos found\n",
      "15 videos with 0+ comments\n",
      "Comments are disabled for video ID: _ieVDjO6ghM\n",
      "13 comments retrieved for 4 videos\n",
      "Transcripts for 13 videos retrieved\n"
     ]
    }
   ],
   "source": [
    "# Initialise the YouTube API\n",
    "yt = YouTubeAPI(api_key=key, verbose=True)\n",
    "\n",
    "# Results are stored in the object: yt.results\n",
    "# The videoIDs are inherited from the search and video results of the previous calls\n",
    "await yt.search('FTX')\n",
    "await yt.videos()\n",
    "await yt.comment_threads()\n",
    "await yt.transcript()"
   ]
  },
  {
   "cell_type": "markdown",
   "metadata": {},
   "source": [
    "## Saving Outputs"
   ]
  },
  {
   "cell_type": "code",
   "execution_count": 8,
   "metadata": {},
   "outputs": [],
   "source": [
    "# Saves the results to a JSON file (results.json)\n",
    "yt.to_json()"
   ]
  },
  {
   "cell_type": "code",
   "execution_count": 9,
   "metadata": {},
   "outputs": [],
   "source": [
    "# Saves the results to a CSV file (results.csv)\n",
    "yt.to_csv()"
   ]
  }
 ],
 "metadata": {
  "kernelspec": {
   "display_name": "Python 3",
   "language": "python",
   "name": "python3"
  },
  "language_info": {
   "codemirror_mode": {
    "name": "ipython",
    "version": 3
   },
   "file_extension": ".py",
   "mimetype": "text/x-python",
   "name": "python",
   "nbconvert_exporter": "python",
   "pygments_lexer": "ipython3",
   "version": "3.12.5"
  }
 },
 "nbformat": 4,
 "nbformat_minor": 2
}
