{
 "cells": [
  {
   "cell_type": "markdown",
   "metadata": {},
   "source": [
    "# YouTube Data API v3 Examples"
   ]
  },
  {
   "cell_type": "code",
   "execution_count": 1,
   "metadata": {},
   "outputs": [
    {
     "name": "stdout",
     "output_type": "stream",
     "text": [
      "Collecting git+https://github.com/isom-ds/social-media-api-sdk.git\n",
      "  Cloning https://github.com/isom-ds/social-media-api-sdk.git to /tmp/pip-req-build-ivdhvtcu\n",
      "  Running command git clone --filter=blob:none --quiet https://github.com/isom-ds/social-media-api-sdk.git /tmp/pip-req-build-ivdhvtcu\n",
      "  Resolved https://github.com/isom-ds/social-media-api-sdk.git to commit 2e0d4a7f2ce1439d5f6cf85451680ad5f838a767\n",
      "  Preparing metadata (setup.py) ... \u001b[?25ldone\n",
      "\u001b[?25hBuilding wheels for collected packages: uoa_isom_ds_sm_api_sdk\n",
      "  Building wheel for uoa_isom_ds_sm_api_sdk (setup.py) ... \u001b[?25ldone\n",
      "\u001b[?25h  Created wheel for uoa_isom_ds_sm_api_sdk: filename=uoa_isom_ds_sm_api_sdk-0.0.4-py3-none-any.whl size=7760 sha256=9bd57f1235e3245601bc1f3e1dc49652f36951cfb99f5c9be4faad4fd7e18132\n",
      "  Stored in directory: /tmp/pip-ephem-wheel-cache-_bp4v13l/wheels/86/19/87/95af968c135dd5458ac474517bd505f4a5dab61fc2b34a356e\n",
      "Successfully built uoa_isom_ds_sm_api_sdk\n",
      "Installing collected packages: uoa_isom_ds_sm_api_sdk\n",
      "  Attempting uninstall: uoa_isom_ds_sm_api_sdk\n",
      "    Found existing installation: uoa_isom_ds_sm_api_sdk 0.0.3\n",
      "    Uninstalling uoa_isom_ds_sm_api_sdk-0.0.3:\n",
      "      Successfully uninstalled uoa_isom_ds_sm_api_sdk-0.0.3\n",
      "Successfully installed uoa_isom_ds_sm_api_sdk-0.0.4\n",
      "\u001b[33mWARNING: Running pip as the 'root' user can result in broken permissions and conflicting behaviour with the system package manager, possibly rendering your system unusable.It is recommended to use a virtual environment instead: https://pip.pypa.io/warnings/venv. Use the --root-user-action option if you know what you are doing and want to suppress this warning.\u001b[0m\u001b[33m\n",
      "\u001b[0m"
     ]
    }
   ],
   "source": [
    "!pip install git+https://github.com/isom-ds/social-media-api-sdk.git"
   ]
  },
  {
   "cell_type": "code",
   "execution_count": 2,
   "metadata": {},
   "outputs": [],
   "source": [
    "import uoa_isom_ds_sm_api_sdk.youtube as yt\n",
    "from yt_api_key import key"
   ]
  },
  {
   "cell_type": "markdown",
   "metadata": {},
   "source": [
    "## Search API"
   ]
  },
  {
   "cell_type": "code",
   "execution_count": 3,
   "metadata": {},
   "outputs": [],
   "source": [
    "query = 'FTX'\n",
    "search_params = {\n",
    "    'key': key,\n",
    "    'part': 'snippet',\n",
    "    'type': 'video',\n",
    "    'maxResults': 50,\n",
    "    'relevanceLanguage': 'en',\n",
    "    'publishedAfter': '2022-12-01' + 'T00:00:00Z',\n",
    "    'publishedBefore': '2022-12-01' + 'T23:59:59Z',\n",
    "    'order': 'viewCount'\n",
    "}"
   ]
  },
  {
   "cell_type": "code",
   "execution_count": 4,
   "metadata": {},
   "outputs": [
    {
     "name": "stdout",
     "output_type": "stream",
     "text": [
      "Fetched 14 Video IDs\n"
     ]
    }
   ],
   "source": [
    "search_results = await yt.fetch_search_results(query, search_params)\n",
    "\n",
    "l_video_ids = list(set([i['id']['videoId'] for i in search_results]))\n",
    "print(f\"Fetched {len(l_video_ids)} Video IDs\")"
   ]
  },
  {
   "cell_type": "markdown",
   "metadata": {},
   "source": [
    "## Videos API"
   ]
  },
  {
   "cell_type": "code",
   "execution_count": 5,
   "metadata": {},
   "outputs": [],
   "source": [
    "video_params = {\n",
    "    'key': key,\n",
    "    'part': 'id,statistics,topicDetails'\n",
    "}"
   ]
  },
  {
   "cell_type": "code",
   "execution_count": 6,
   "metadata": {},
   "outputs": [
    {
     "name": "stdout",
     "output_type": "stream",
     "text": [
      "Fetched data for 14 videos\n",
      "Video ID    | Comments\n",
      "------------|------------\n",
      "tC_orukfkGE | 27\n",
      "IyoGdwVIwWw | 0\n",
      "HAnFA2FAl3o | 0\n",
      "8vwv23XYcrU | 13\n",
      "PamZCTjqR0k | 27\n",
      "CG1bpu2KqeQ | 7\n",
      "7QEbjRKbrjY | 2112\n",
      "0Hxf4Vf54PI | 4456\n",
      "f26kRRKrlj8 | 17\n",
      "Zc57tP7ODNQ | 179\n",
      "RDVXI84KSY8 | 126\n",
      "ipcpgND2-AY | 2\n",
      "Bn0HOI9Qx0o | 52\n",
      "vdv05uU1m98 | 138\n"
     ]
    }
   ],
   "source": [
    "# Concurrent\n",
    "video_concurrent_results = await yt.fetch_videos(l_video_ids, video_params) # Also works for 1 video ID as string\n",
    "\n",
    "print(f\"Fetched data for {len(l_video_ids)} videos\")\n",
    "print(\"Video ID    | Comments\")\n",
    "print(\"------------|------------\")\n",
    "for k,v in video_concurrent_results.items():\n",
    "    print(f\"{k} | {v['statistics']['commentCount']}\")"
   ]
  },
  {
   "cell_type": "markdown",
   "metadata": {},
   "source": [
    "## CommentThreads API"
   ]
  },
  {
   "cell_type": "code",
   "execution_count": 7,
   "metadata": {},
   "outputs": [
    {
     "name": "stdout",
     "output_type": "stream",
     "text": [
      "14 videos with 0+ comments\n"
     ]
    }
   ],
   "source": [
    "comments_params = {\n",
    "    'key': key,\n",
    "    'part': 'id,replies,snippet',\n",
    "    'order': 'time'\n",
    "}\n",
    "\n",
    "# Remove videos with less than n comments\n",
    "n_comments_minimum = 0\n",
    "l_video_ids = [v['id'] for k,v in video_concurrent_results.items() if v['statistics']['commentCount'] >= n_comments_minimum]\n",
    "print(f\"{len(l_video_ids)} videos with {n_comments_minimum}+ comments\")"
   ]
  },
  {
   "cell_type": "code",
   "execution_count": 8,
   "metadata": {},
   "outputs": [
    {
     "name": "stdout",
     "output_type": "stream",
     "text": [
      "Comments are disabled for video with params: {'part': 'id,replies,snippet', 'order': 'time', 'videoId': 'IyoGdwVIwWw'}\n",
      "Fetched comments for 14 videos\n",
      "Video ID    | Comments\n",
      "------------|------------\n",
      "tC_orukfkGE | 25\n",
      "IyoGdwVIwWw | 0\n",
      "HAnFA2FAl3o | 0\n",
      "8vwv23XYcrU | 11\n",
      "PamZCTjqR0k | 23\n",
      "CG1bpu2KqeQ | 6\n",
      "7QEbjRKbrjY | 1799\n",
      "0Hxf4Vf54PI | 3390\n",
      "f26kRRKrlj8 | 15\n",
      "Zc57tP7ODNQ | 119\n",
      "RDVXI84KSY8 | 85\n",
      "ipcpgND2-AY | 1\n",
      "Bn0HOI9Qx0o | 43\n",
      "vdv05uU1m98 | 71\n"
     ]
    }
   ],
   "source": [
    "# Concurrent\n",
    "comments_concurrent_results = await yt.fetch_comment_threads(l_video_ids, comments_params) # Also works for 1 video ID as string\n",
    "\n",
    "print(f\"Fetched comments for {len(comments_concurrent_results)} videos\")\n",
    "print(\"Video ID    | Comments\")\n",
    "print(\"------------|------------\")\n",
    "for i in comments_concurrent_results.keys():\n",
    "    print(f\"{i} | {len(comments_concurrent_results[i])}\")"
   ]
  },
  {
   "cell_type": "markdown",
   "metadata": {},
   "source": [
    "## Pipelines"
   ]
  },
  {
   "cell_type": "code",
   "execution_count": 9,
   "metadata": {},
   "outputs": [
    {
     "name": "stdout",
     "output_type": "stream",
     "text": [
      "14 videos found\n",
      "14 videos with 0+ comments\n",
      "Comments are disabled for video with params: {'part': 'id,replies,snippet', 'order': 'time', 'videoId': 'IyoGdwVIwWw'}\n",
      "Data retrieved for 14 videos\n",
      "Video ID    | Comments\n",
      "------------|------------\n",
      "tC_orukfkGE | 25\n",
      "IyoGdwVIwWw | 0\n",
      "HAnFA2FAl3o | 0\n",
      "8vwv23XYcrU | 11\n",
      "PamZCTjqR0k | 23\n",
      "CG1bpu2KqeQ | 6\n",
      "7QEbjRKbrjY | 1799\n",
      "0Hxf4Vf54PI | 3390\n",
      "f26kRRKrlj8 | 15\n",
      "Zc57tP7ODNQ | 119\n",
      "RDVXI84KSY8 | 85\n",
      "ipcpgND2-AY | 1\n",
      "Bn0HOI9Qx0o | 43\n",
      "vdv05uU1m98 | 71\n"
     ]
    }
   ],
   "source": [
    "# Search API -> Videos API -> CommentThreads API\n",
    "svc_pipeline_results = await yt.search_videos_comments(query, search_params, video_params, comments_params)\n",
    "\n",
    "print(f\"Data retrieved for {len(svc_pipeline_results)} videos\")\n",
    "print(\"Video ID    | Comments\")\n",
    "print(\"------------|------------\")\n",
    "for k,v in svc_pipeline_results.items():\n",
    "    print(f\"{k} | {len(v['commentThreads'])}\")"
   ]
  }
 ],
 "metadata": {
  "kernelspec": {
   "display_name": "Python 3",
   "language": "python",
   "name": "python3"
  },
  "language_info": {
   "codemirror_mode": {
    "name": "ipython",
    "version": 3
   },
   "file_extension": ".py",
   "mimetype": "text/x-python",
   "name": "python",
   "nbconvert_exporter": "python",
   "pygments_lexer": "ipython3",
   "version": "3.12.5"
  }
 },
 "nbformat": 4,
 "nbformat_minor": 2
}
