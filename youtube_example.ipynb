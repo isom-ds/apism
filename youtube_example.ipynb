{
 "cells": [
  {
   "cell_type": "markdown",
   "metadata": {},
   "source": [
    "# YouTube Data API v3 Examples"
   ]
  },
  {
   "cell_type": "code",
   "execution_count": 1,
   "metadata": {},
   "outputs": [],
   "source": [
    "from youtube.search import *\n",
    "from youtube.videos import *\n",
    "from youtube.comment_threads import *\n",
    "from youtube.pipelines import *\n",
    "from yt_api_key import key"
   ]
  },
  {
   "cell_type": "markdown",
   "metadata": {},
   "source": [
    "## Search API"
   ]
  },
  {
   "cell_type": "code",
   "execution_count": 2,
   "metadata": {},
   "outputs": [],
   "source": [
    "query = 'FTX'\n",
    "search_params = {\n",
    "    'key': key,\n",
    "    'part': 'snippet',\n",
    "    'type': 'video',\n",
    "    'maxResults': 50,\n",
    "    'relevanceLanguage': 'en',\n",
    "    'publishedAfter': '2022-12-01' + 'T00:00:00Z',\n",
    "    'publishedBefore': '2022-12-01' + 'T23:59:59Z',\n",
    "    'order': 'viewCount'\n",
    "}"
   ]
  },
  {
   "cell_type": "code",
   "execution_count": 3,
   "metadata": {},
   "outputs": [
    {
     "name": "stdout",
     "output_type": "stream",
     "text": [
      "Fetched 14 Video IDs\n"
     ]
    }
   ],
   "source": [
    "search_results = await fetch_search_results(query, search_params)\n",
    "\n",
    "l_video_ids = list(set([i['id']['videoId'] for i in search_results]))\n",
    "print(f\"Fetched {len(l_video_ids)} Video IDs\")"
   ]
  },
  {
   "cell_type": "markdown",
   "metadata": {},
   "source": [
    "## Videos API"
   ]
  },
  {
   "cell_type": "code",
   "execution_count": 4,
   "metadata": {},
   "outputs": [],
   "source": [
    "video_params = {\n",
    "    'key': key,\n",
    "    'part': 'id,statistics,topicDetails'\n",
    "}"
   ]
  },
  {
   "cell_type": "code",
   "execution_count": 5,
   "metadata": {},
   "outputs": [
    {
     "name": "stdout",
     "output_type": "stream",
     "text": [
      "Fetched data for 14 videos\n",
      "Video ID    | Comments\n",
      "------------|------------\n",
      "7QEbjRKbrjY | 2112\n",
      "f26kRRKrlj8 | 17\n",
      "vdv05uU1m98 | 138\n",
      "Zc57tP7ODNQ | 179\n",
      "CG1bpu2KqeQ | 7\n",
      "RDVXI84KSY8 | 126\n",
      "PamZCTjqR0k | 27\n",
      "IyoGdwVIwWw | 0\n",
      "ipcpgND2-AY | 2\n",
      "Bn0HOI9Qx0o | 52\n",
      "8vwv23XYcrU | 13\n",
      "0Hxf4Vf54PI | 4456\n",
      "tC_orukfkGE | 27\n",
      "HAnFA2FAl3o | 0\n"
     ]
    }
   ],
   "source": [
    "# Concurrent\n",
    "video_concurrent_results = await fetch_videos(l_video_ids, video_params) # Also works for 1 video ID as string\n",
    "\n",
    "print(f\"Fetched data for {len(l_video_ids)} videos\")\n",
    "print(\"Video ID    | Comments\")\n",
    "print(\"------------|------------\")\n",
    "for k,v in video_concurrent_results.items():\n",
    "    print(f\"{k} | {v['statistics']['commentCount']}\")"
   ]
  },
  {
   "cell_type": "markdown",
   "metadata": {},
   "source": [
    "## CommentThreads API"
   ]
  },
  {
   "cell_type": "code",
   "execution_count": 6,
   "metadata": {},
   "outputs": [
    {
     "name": "stdout",
     "output_type": "stream",
     "text": [
      "14 videos with 0+ comments\n"
     ]
    }
   ],
   "source": [
    "comments_params = {\n",
    "    'key': key,\n",
    "    'part': 'id,replies,snippet',\n",
    "    'order': 'time'\n",
    "}\n",
    "\n",
    "# Remove videos with less than n comments\n",
    "n_comments_minimum = 0\n",
    "l_video_ids = [v['id'] for k,v in video_concurrent_results.items() if v['statistics']['commentCount'] >= n_comments_minimum]\n",
    "print(f\"{len(l_video_ids)} videos with {n_comments_minimum}+ comments\")"
   ]
  },
  {
   "cell_type": "code",
   "execution_count": 7,
   "metadata": {},
   "outputs": [
    {
     "name": "stdout",
     "output_type": "stream",
     "text": [
      "Comments are disabled for video with params: {'part': 'id,replies,snippet', 'order': 'time', 'videoId': 'IyoGdwVIwWw'}\n",
      "Fetched comments for 14 videos\n",
      "Video ID    | Comments\n",
      "------------|------------\n",
      "7QEbjRKbrjY | 1799\n",
      "f26kRRKrlj8 | 15\n",
      "vdv05uU1m98 | 71\n",
      "Zc57tP7ODNQ | 119\n",
      "CG1bpu2KqeQ | 6\n",
      "RDVXI84KSY8 | 85\n",
      "PamZCTjqR0k | 23\n",
      "IyoGdwVIwWw | 0\n",
      "ipcpgND2-AY | 1\n",
      "Bn0HOI9Qx0o | 43\n",
      "8vwv23XYcrU | 11\n",
      "0Hxf4Vf54PI | 3390\n",
      "tC_orukfkGE | 25\n",
      "HAnFA2FAl3o | 0\n"
     ]
    }
   ],
   "source": [
    "# Concurrent\n",
    "comments_concurrent_results = await fetch_comment_threads(l_video_ids, comments_params) # Also works for 1 video ID as string\n",
    "\n",
    "print(f\"Fetched comments for {len(comments_concurrent_results)} videos\")\n",
    "print(\"Video ID    | Comments\")\n",
    "print(\"------------|------------\")\n",
    "for i in comments_concurrent_results.keys():\n",
    "    print(f\"{i} | {len(comments_concurrent_results[i])}\")"
   ]
  },
  {
   "cell_type": "markdown",
   "metadata": {},
   "source": [
    "## Pipelines"
   ]
  },
  {
   "cell_type": "code",
   "execution_count": 8,
   "metadata": {},
   "outputs": [
    {
     "name": "stdout",
     "output_type": "stream",
     "text": [
      "15 videos found\n",
      "15 videos with 0+ comments\n",
      "Comments are disabled for video with params: {'part': 'id,replies,snippet', 'order': 'time', 'videoId': 'IyoGdwVIwWw'}\n",
      "Data retrieved for 15 videos\n",
      "Video ID    | Comments\n",
      "------------|------------\n",
      "7QEbjRKbrjY | 1799\n",
      "5siCgOJXPdI | 52\n",
      "f26kRRKrlj8 | 15\n",
      "vdv05uU1m98 | 71\n",
      "Zc57tP7ODNQ | 119\n",
      "CG1bpu2KqeQ | 6\n",
      "6A9gY1jRuEw | 238\n",
      "PamZCTjqR0k | 23\n",
      "IyoGdwVIwWw | 0\n",
      "mMOBD9gUIVk | 12\n",
      "ipcpgND2-AY | 1\n",
      "8vwv23XYcrU | 11\n",
      "0Hxf4Vf54PI | 3390\n",
      "tC_orukfkGE | 25\n",
      "HAnFA2FAl3o | 0\n"
     ]
    }
   ],
   "source": [
    "# Search API -> Videos API -> CommentThreads API\n",
    "svc_pipeline_results = await search_videos_comments(query, search_params, video_params, comments_params)\n",
    "\n",
    "print(f\"Data retrieved for {len(svc_pipeline_results)} videos\")\n",
    "print(\"Video ID    | Comments\")\n",
    "print(\"------------|------------\")\n",
    "for k,v in svc_pipeline_results.items():\n",
    "    print(f\"{k} | {len(v['commentThreads'])}\")"
   ]
  }
 ],
 "metadata": {
  "kernelspec": {
   "display_name": "Python 3",
   "language": "python",
   "name": "python3"
  },
  "language_info": {
   "codemirror_mode": {
    "name": "ipython",
    "version": 3
   },
   "file_extension": ".py",
   "mimetype": "text/x-python",
   "name": "python",
   "nbconvert_exporter": "python",
   "pygments_lexer": "ipython3",
   "version": "3.12.5"
  }
 },
 "nbformat": 4,
 "nbformat_minor": 2
}
