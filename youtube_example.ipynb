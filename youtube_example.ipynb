{
 "cells": [
  {
   "cell_type": "markdown",
   "metadata": {},
   "source": [
    "# YouTube Data API v3 Examples"
   ]
  },
  {
   "cell_type": "code",
   "execution_count": 1,
   "metadata": {},
   "outputs": [],
   "source": [
    "from youtube.search import *\n",
    "from youtube.videos import *\n",
    "from youtube.comment_threads import *\n",
    "from yt_api_key import key"
   ]
  },
  {
   "cell_type": "markdown",
   "metadata": {},
   "source": [
    "## Search API"
   ]
  },
  {
   "cell_type": "code",
   "execution_count": 2,
   "metadata": {},
   "outputs": [],
   "source": [
    "query = 'FTX'\n",
    "search_params = {\n",
    "    'key': key,\n",
    "    'part': 'snippet',\n",
    "    'type': 'video',\n",
    "    'maxResults': 100,\n",
    "    'relevanceLanguage': 'en',\n",
    "    'publishedAfter': '2022-12-01' + 'T00:00:00Z',\n",
    "    'publishedBefore': '2022-12-01' + 'T23:59:59Z',\n",
    "    'order': 'viewCount'\n",
    "}"
   ]
  },
  {
   "cell_type": "code",
   "execution_count": 3,
   "metadata": {},
   "outputs": [
    {
     "name": "stdout",
     "output_type": "stream",
     "text": [
      "Fetched 14 Video IDs\n"
     ]
    }
   ],
   "source": [
    "search_results = await fetch_search_results(query, search_params)\n",
    "\n",
    "l_video_ids = list(set([i['id']['videoId'] for i in search_results]))\n",
    "print(f\"Fetched {len(l_video_ids)} Video IDs\")"
   ]
  },
  {
   "cell_type": "markdown",
   "metadata": {},
   "source": [
    "## Videos API"
   ]
  },
  {
   "cell_type": "code",
   "execution_count": 4,
   "metadata": {},
   "outputs": [],
   "source": [
    "video_params = {\n",
    "    'key': key,\n",
    "    'part': 'id,statistics,topicDetails'\n",
    "}"
   ]
  },
  {
   "cell_type": "markdown",
   "metadata": {},
   "source": [
    "### Single Video"
   ]
  },
  {
   "cell_type": "code",
   "execution_count": 5,
   "metadata": {},
   "outputs": [],
   "source": [
    "video_results = await fetch_videos('0Hxf4Vf54PI', video_params)"
   ]
  },
  {
   "cell_type": "code",
   "execution_count": 6,
   "metadata": {},
   "outputs": [
    {
     "data": {
      "text/plain": [
       "{'kind': 'youtube#video',\n",
       " 'etag': 'T-XBuqdLqRU5wU1Ws5k3y05DE5U',\n",
       " 'id': '0Hxf4Vf54PI',\n",
       " 'statistics': {'viewCount': 616758,\n",
       "  'likeCount': 3874,\n",
       "  'favoriteCount': 0,\n",
       "  'commentCount': 4456},\n",
       " 'topicDetails': {'topicCategories': ['https://en.wikipedia.org/wiki/Society',\n",
       "   'https://en.wikipedia.org/wiki/Television_program']}}"
      ]
     },
     "execution_count": 6,
     "metadata": {},
     "output_type": "execute_result"
    }
   ],
   "source": [
    "video_results"
   ]
  },
  {
   "cell_type": "markdown",
   "metadata": {},
   "source": [
    "### Multiple Videos"
   ]
  },
  {
   "cell_type": "code",
   "execution_count": 7,
   "metadata": {},
   "outputs": [
    {
     "name": "stdout",
     "output_type": "stream",
     "text": [
      "Fetched data for 14 videos\n",
      "Video ID    | Comments\n",
      "------------|------------\n",
      "PamZCTjqR0k | 27\n",
      "tC_orukfkGE | 27\n",
      "5siCgOJXPdI | 63\n",
      "0Hxf4Vf54PI | 4456\n",
      "f26kRRKrlj8 | 17\n",
      "HAnFA2FAl3o | 0\n",
      "7QEbjRKbrjY | 2112\n",
      "RDVXI84KSY8 | 126\n",
      "ipcpgND2-AY | 2\n",
      "IyoGdwVIwWw | 0\n",
      "Bn0HOI9Qx0o | 52\n",
      "8vwv23XYcrU | 13\n",
      "Zc57tP7ODNQ | 179\n",
      "U5poFl0S6JA | 11\n"
     ]
    }
   ],
   "source": [
    "# Concurrent\n",
    "video_concurrent_results = await fetch_videos(l_video_ids, video_params)\n",
    "\n",
    "print(f\"Fetched data for {len(l_video_ids)} videos\")\n",
    "print(\"Video ID    | Comments\")\n",
    "print(\"------------|------------\")\n",
    "for k,v in video_concurrent_results.items():\n",
    "    print(f\"{k} | {v['statistics']['commentCount']}\")"
   ]
  },
  {
   "cell_type": "code",
   "execution_count": 8,
   "metadata": {},
   "outputs": [
    {
     "name": "stdout",
     "output_type": "stream",
     "text": [
      "Fetched data for 14 videos\n",
      "Video ID    | Comments\n",
      "------------|------------\n",
      "PamZCTjqR0k | 27\n",
      "tC_orukfkGE | 27\n",
      "5siCgOJXPdI | 63\n",
      "0Hxf4Vf54PI | 4456\n",
      "f26kRRKrlj8 | 17\n",
      "HAnFA2FAl3o | 0\n",
      "7QEbjRKbrjY | 2112\n",
      "RDVXI84KSY8 | 126\n",
      "ipcpgND2-AY | 2\n",
      "IyoGdwVIwWw | 0\n",
      "Bn0HOI9Qx0o | 52\n",
      "8vwv23XYcrU | 13\n",
      "Zc57tP7ODNQ | 179\n",
      "U5poFl0S6JA | 11\n"
     ]
    }
   ],
   "source": [
    "# Sequential\n",
    "comments_sequential_results = await fetch_videos(l_video_ids, video_params, sequential=True)\n",
    "\n",
    "print(f\"Fetched data for {len(comments_sequential_results)} videos\")\n",
    "print(\"Video ID    | Comments\")\n",
    "print(\"------------|------------\")\n",
    "for k,v in comments_sequential_results.items():\n",
    "    print(f\"{k} | {v['statistics']['commentCount']}\")"
   ]
  },
  {
   "cell_type": "markdown",
   "metadata": {},
   "source": [
    "## CommentThreads API"
   ]
  },
  {
   "cell_type": "code",
   "execution_count": 9,
   "metadata": {},
   "outputs": [
    {
     "name": "stdout",
     "output_type": "stream",
     "text": [
      "12 videos with more than 0 comments\n"
     ]
    }
   ],
   "source": [
    "comments_params = {\n",
    "    'key': key,\n",
    "    'part': 'id,replies,snippet',\n",
    "    'order': 'time'\n",
    "}\n",
    "\n",
    "# Remove videos with less than n comments\n",
    "n_comments_minimum = 0\n",
    "l_video_ids = [v['id'] for k,v in video_concurrent_results.items() if v['statistics']['commentCount'] > n_comments_minimum]\n",
    "print(f\"{len(l_video_ids)} videos with more than {n_comments_minimum} comments\")"
   ]
  },
  {
   "cell_type": "markdown",
   "metadata": {},
   "source": [
    "### Single Video Comments"
   ]
  },
  {
   "cell_type": "code",
   "execution_count": 10,
   "metadata": {},
   "outputs": [
    {
     "name": "stdout",
     "output_type": "stream",
     "text": [
      "Fetched 3390 comments for Video ID `0Hxf4Vf54PI`\n"
     ]
    }
   ],
   "source": [
    "comments_results = await fetch_comment_threads('0Hxf4Vf54PI', comments_params)\n",
    "\n",
    "print(f\"Fetched {len(comments_results)} comments for Video ID `0Hxf4Vf54PI`\")"
   ]
  },
  {
   "cell_type": "markdown",
   "metadata": {},
   "source": [
    "### Multiple Videos Comments"
   ]
  },
  {
   "cell_type": "code",
   "execution_count": 11,
   "metadata": {},
   "outputs": [
    {
     "name": "stdout",
     "output_type": "stream",
     "text": [
      "Fetched comments for 12 videos\n",
      "Video ID    | Comments\n",
      "------------|------------\n",
      "PamZCTjqR0k | 23\n",
      "tC_orukfkGE | 25\n",
      "5siCgOJXPdI | 52\n",
      "0Hxf4Vf54PI | 3390\n",
      "f26kRRKrlj8 | 15\n",
      "7QEbjRKbrjY | 1799\n",
      "RDVXI84KSY8 | 85\n",
      "ipcpgND2-AY | 1\n",
      "Bn0HOI9Qx0o | 43\n",
      "8vwv23XYcrU | 11\n",
      "Zc57tP7ODNQ | 119\n",
      "U5poFl0S6JA | 3\n"
     ]
    }
   ],
   "source": [
    "# Concurrent\n",
    "comments_concurrent_results = await fetch_comment_threads(l_video_ids, comments_params)\n",
    "\n",
    "print(f\"Fetched comments for {len(comments_concurrent_results)} videos\")\n",
    "print(\"Video ID    | Comments\")\n",
    "print(\"------------|------------\")\n",
    "for i in comments_concurrent_results.keys():\n",
    "    print(f\"{i} | {len(comments_concurrent_results[i])}\")"
   ]
  },
  {
   "cell_type": "code",
   "execution_count": 12,
   "metadata": {},
   "outputs": [
    {
     "name": "stdout",
     "output_type": "stream",
     "text": [
      "Fetched comments for 12 videos\n",
      "Video ID    | Comments\n",
      "------------|------------\n",
      "PamZCTjqR0k | 23\n",
      "tC_orukfkGE | 25\n",
      "5siCgOJXPdI | 52\n",
      "0Hxf4Vf54PI | 3390\n",
      "f26kRRKrlj8 | 15\n",
      "7QEbjRKbrjY | 1799\n",
      "RDVXI84KSY8 | 85\n",
      "ipcpgND2-AY | 1\n",
      "Bn0HOI9Qx0o | 43\n",
      "8vwv23XYcrU | 11\n",
      "Zc57tP7ODNQ | 119\n",
      "U5poFl0S6JA | 3\n"
     ]
    }
   ],
   "source": [
    "# Sequential\n",
    "comments_sequential_results = await fetch_comment_threads(l_video_ids, comments_params, sequential=True)\n",
    "\n",
    "print(f\"Fetched comments for {len(comments_sequential_results)} videos\")\n",
    "print(\"Video ID    | Comments\")\n",
    "print(\"------------|------------\")\n",
    "for i in comments_sequential_results.keys():\n",
    "    print(f\"{i} | {len(comments_sequential_results[i])}\")"
   ]
  }
 ],
 "metadata": {
  "kernelspec": {
   "display_name": "Python 3",
   "language": "python",
   "name": "python3"
  },
  "language_info": {
   "codemirror_mode": {
    "name": "ipython",
    "version": 3
   },
   "file_extension": ".py",
   "mimetype": "text/x-python",
   "name": "python",
   "nbconvert_exporter": "python",
   "pygments_lexer": "ipython3",
   "version": "3.12.5"
  }
 },
 "nbformat": 4,
 "nbformat_minor": 2
}
